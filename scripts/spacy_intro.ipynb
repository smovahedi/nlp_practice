import spacy


nlp = spacy.load('en')
doc = nlp("This my new notebook. Trying to work with spacy library! #spacy #python @smovahedi")
